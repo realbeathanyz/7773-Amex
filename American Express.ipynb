{
 "cells": [
  {
   "cell_type": "markdown",
   "id": "62c2eff4-6861-4d71-9b72-239a619f47a7",
   "metadata": {},
   "source": [
    "# Main Goal\n",
    "apply your machine learning skills to predict credit default, Training, validation, and testing datasets include time-series behavioral data and anonymized customer profile information."
   ]
  },
  {
   "cell_type": "markdown",
   "id": "026b1726-d234-4d83-8e42-96d3331796a9",
   "metadata": {},
   "source": [
    "# Step 1 - load the data and reading libraries"
   ]
  },
  {
   "cell_type": "code",
   "execution_count": 1,
   "id": "0e991562-ba48-45b3-b8de-66b717f02595",
   "metadata": {},
   "outputs": [],
   "source": [
    "import numpy as np\n",
    "import pandas as pd\n",
    "import matplotlib.pyplot as plt\n",
    "import seaborn as sns\n",
    "import re\n",
    "from sklearn.model_selection import train_test_split\n",
    "import lightgbm as lgb\n",
    "from sklearn.metrics import accuracy_score\n",
    "\n",
    "# load the train data, test data,  into DataFrame for further analysis\n",
    "train_data = pd.read_feather('./train_data.ftr')\n",
    "test_data = pd.read_feather('./test_data.ftr')\n",
    "train_label = pd.read_csv('./train_labels.csv')"
   ]
  },
  {
   "cell_type": "code",
   "execution_count": 3,
   "id": "dae0c473-6c29-4ead-9ced-984eea72cc82",
   "metadata": {},
   "outputs": [
    {
     "data": {
      "text/html": [
       "<div>\n",
       "<style scoped>\n",
       "    .dataframe tbody tr th:only-of-type {\n",
       "        vertical-align: middle;\n",
       "    }\n",
       "\n",
       "    .dataframe tbody tr th {\n",
       "        vertical-align: top;\n",
       "    }\n",
       "\n",
       "    .dataframe thead th {\n",
       "        text-align: right;\n",
       "    }\n",
       "</style>\n",
       "<table border=\"1\" class=\"dataframe\">\n",
       "  <thead>\n",
       "    <tr style=\"text-align: right;\">\n",
       "      <th></th>\n",
       "      <th>customer_ID</th>\n",
       "      <th>S_2</th>\n",
       "      <th>P_2</th>\n",
       "      <th>D_39</th>\n",
       "      <th>B_1</th>\n",
       "      <th>B_2</th>\n",
       "      <th>R_1</th>\n",
       "      <th>S_3</th>\n",
       "      <th>D_41</th>\n",
       "      <th>B_3</th>\n",
       "      <th>...</th>\n",
       "      <th>D_137</th>\n",
       "      <th>D_138</th>\n",
       "      <th>D_139</th>\n",
       "      <th>D_140</th>\n",
       "      <th>D_141</th>\n",
       "      <th>D_142</th>\n",
       "      <th>D_143</th>\n",
       "      <th>D_144</th>\n",
       "      <th>D_145</th>\n",
       "      <th>target</th>\n",
       "    </tr>\n",
       "  </thead>\n",
       "  <tbody>\n",
       "    <tr>\n",
       "      <th>0</th>\n",
       "      <td>0000099d6bd597052cdcda90ffabf56573fe9d7c79be5f...</td>\n",
       "      <td>2017-03-09</td>\n",
       "      <td>0.938477</td>\n",
       "      <td>0.001734</td>\n",
       "      <td>0.008728</td>\n",
       "      <td>1.006836</td>\n",
       "      <td>0.009224</td>\n",
       "      <td>0.124023</td>\n",
       "      <td>0.008774</td>\n",
       "      <td>0.004707</td>\n",
       "      <td>...</td>\n",
       "      <td>NaN</td>\n",
       "      <td>NaN</td>\n",
       "      <td>0.002426</td>\n",
       "      <td>0.003706</td>\n",
       "      <td>0.003819</td>\n",
       "      <td>NaN</td>\n",
       "      <td>0.000569</td>\n",
       "      <td>0.000610</td>\n",
       "      <td>0.002674</td>\n",
       "      <td>0</td>\n",
       "    </tr>\n",
       "    <tr>\n",
       "      <th>1</th>\n",
       "      <td>0000099d6bd597052cdcda90ffabf56573fe9d7c79be5f...</td>\n",
       "      <td>2017-04-07</td>\n",
       "      <td>0.936523</td>\n",
       "      <td>0.005775</td>\n",
       "      <td>0.004925</td>\n",
       "      <td>1.000977</td>\n",
       "      <td>0.006153</td>\n",
       "      <td>0.126709</td>\n",
       "      <td>0.000798</td>\n",
       "      <td>0.002714</td>\n",
       "      <td>...</td>\n",
       "      <td>NaN</td>\n",
       "      <td>NaN</td>\n",
       "      <td>0.003956</td>\n",
       "      <td>0.003166</td>\n",
       "      <td>0.005032</td>\n",
       "      <td>NaN</td>\n",
       "      <td>0.009575</td>\n",
       "      <td>0.005493</td>\n",
       "      <td>0.009216</td>\n",
       "      <td>0</td>\n",
       "    </tr>\n",
       "    <tr>\n",
       "      <th>2</th>\n",
       "      <td>0000099d6bd597052cdcda90ffabf56573fe9d7c79be5f...</td>\n",
       "      <td>2017-05-28</td>\n",
       "      <td>0.954102</td>\n",
       "      <td>0.091492</td>\n",
       "      <td>0.021652</td>\n",
       "      <td>1.009766</td>\n",
       "      <td>0.006817</td>\n",
       "      <td>0.123962</td>\n",
       "      <td>0.007599</td>\n",
       "      <td>0.009422</td>\n",
       "      <td>...</td>\n",
       "      <td>NaN</td>\n",
       "      <td>NaN</td>\n",
       "      <td>0.003269</td>\n",
       "      <td>0.007328</td>\n",
       "      <td>0.000427</td>\n",
       "      <td>NaN</td>\n",
       "      <td>0.003429</td>\n",
       "      <td>0.006985</td>\n",
       "      <td>0.002604</td>\n",
       "      <td>0</td>\n",
       "    </tr>\n",
       "    <tr>\n",
       "      <th>3</th>\n",
       "      <td>0000099d6bd597052cdcda90ffabf56573fe9d7c79be5f...</td>\n",
       "      <td>2017-06-13</td>\n",
       "      <td>0.960449</td>\n",
       "      <td>0.002455</td>\n",
       "      <td>0.013687</td>\n",
       "      <td>1.002930</td>\n",
       "      <td>0.001372</td>\n",
       "      <td>0.117188</td>\n",
       "      <td>0.000685</td>\n",
       "      <td>0.005531</td>\n",
       "      <td>...</td>\n",
       "      <td>NaN</td>\n",
       "      <td>NaN</td>\n",
       "      <td>0.006119</td>\n",
       "      <td>0.004517</td>\n",
       "      <td>0.003201</td>\n",
       "      <td>NaN</td>\n",
       "      <td>0.008423</td>\n",
       "      <td>0.006527</td>\n",
       "      <td>0.009598</td>\n",
       "      <td>0</td>\n",
       "    </tr>\n",
       "    <tr>\n",
       "      <th>4</th>\n",
       "      <td>0000099d6bd597052cdcda90ffabf56573fe9d7c79be5f...</td>\n",
       "      <td>2017-07-16</td>\n",
       "      <td>0.947266</td>\n",
       "      <td>0.002483</td>\n",
       "      <td>0.015190</td>\n",
       "      <td>1.000977</td>\n",
       "      <td>0.007607</td>\n",
       "      <td>0.117310</td>\n",
       "      <td>0.004654</td>\n",
       "      <td>0.009308</td>\n",
       "      <td>...</td>\n",
       "      <td>NaN</td>\n",
       "      <td>NaN</td>\n",
       "      <td>0.003672</td>\n",
       "      <td>0.004944</td>\n",
       "      <td>0.008888</td>\n",
       "      <td>NaN</td>\n",
       "      <td>0.001670</td>\n",
       "      <td>0.008125</td>\n",
       "      <td>0.009827</td>\n",
       "      <td>0</td>\n",
       "    </tr>\n",
       "  </tbody>\n",
       "</table>\n",
       "<p>5 rows × 191 columns</p>\n",
       "</div>"
      ],
      "text/plain": [
       "                                         customer_ID         S_2       P_2  \\\n",
       "0  0000099d6bd597052cdcda90ffabf56573fe9d7c79be5f...  2017-03-09  0.938477   \n",
       "1  0000099d6bd597052cdcda90ffabf56573fe9d7c79be5f...  2017-04-07  0.936523   \n",
       "2  0000099d6bd597052cdcda90ffabf56573fe9d7c79be5f...  2017-05-28  0.954102   \n",
       "3  0000099d6bd597052cdcda90ffabf56573fe9d7c79be5f...  2017-06-13  0.960449   \n",
       "4  0000099d6bd597052cdcda90ffabf56573fe9d7c79be5f...  2017-07-16  0.947266   \n",
       "\n",
       "       D_39       B_1       B_2       R_1       S_3      D_41       B_3  ...  \\\n",
       "0  0.001734  0.008728  1.006836  0.009224  0.124023  0.008774  0.004707  ...   \n",
       "1  0.005775  0.004925  1.000977  0.006153  0.126709  0.000798  0.002714  ...   \n",
       "2  0.091492  0.021652  1.009766  0.006817  0.123962  0.007599  0.009422  ...   \n",
       "3  0.002455  0.013687  1.002930  0.001372  0.117188  0.000685  0.005531  ...   \n",
       "4  0.002483  0.015190  1.000977  0.007607  0.117310  0.004654  0.009308  ...   \n",
       "\n",
       "   D_137  D_138     D_139     D_140     D_141  D_142     D_143     D_144  \\\n",
       "0    NaN    NaN  0.002426  0.003706  0.003819    NaN  0.000569  0.000610   \n",
       "1    NaN    NaN  0.003956  0.003166  0.005032    NaN  0.009575  0.005493   \n",
       "2    NaN    NaN  0.003269  0.007328  0.000427    NaN  0.003429  0.006985   \n",
       "3    NaN    NaN  0.006119  0.004517  0.003201    NaN  0.008423  0.006527   \n",
       "4    NaN    NaN  0.003672  0.004944  0.008888    NaN  0.001670  0.008125   \n",
       "\n",
       "      D_145  target  \n",
       "0  0.002674       0  \n",
       "1  0.009216       0  \n",
       "2  0.002604       0  \n",
       "3  0.009598       0  \n",
       "4  0.009827       0  \n",
       "\n",
       "[5 rows x 191 columns]"
      ]
     },
     "execution_count": 3,
     "metadata": {},
     "output_type": "execute_result"
    }
   ],
   "source": [
    "# Next, we can also explore how the Paid and Default ratio change over time\n",
    "# to do this, we can first merge our train data with our train_label so that we can time info with target info\n",
    "train_df = train_data.merge(train_label, left_on='customer_ID', right_on='customer_ID')\n",
    "train_df.head()"
   ]
  },
  {
   "cell_type": "code",
   "execution_count": 4,
   "id": "4cb547be-269d-48fc-bf76-063332567493",
   "metadata": {},
   "outputs": [
    {
     "data": {
      "text/html": [
       "<div>\n",
       "<style scoped>\n",
       "    .dataframe tbody tr th:only-of-type {\n",
       "        vertical-align: middle;\n",
       "    }\n",
       "\n",
       "    .dataframe tbody tr th {\n",
       "        vertical-align: top;\n",
       "    }\n",
       "\n",
       "    .dataframe thead th {\n",
       "        text-align: right;\n",
       "    }\n",
       "</style>\n",
       "<table border=\"1\" class=\"dataframe\">\n",
       "  <thead>\n",
       "    <tr style=\"text-align: right;\">\n",
       "      <th></th>\n",
       "      <th>S_2</th>\n",
       "      <th>target</th>\n",
       "    </tr>\n",
       "  </thead>\n",
       "  <tbody>\n",
       "    <tr>\n",
       "      <th>0</th>\n",
       "      <td>2017-03-01</td>\n",
       "      <td>0.243618</td>\n",
       "    </tr>\n",
       "    <tr>\n",
       "      <th>1</th>\n",
       "      <td>2017-03-02</td>\n",
       "      <td>0.247207</td>\n",
       "    </tr>\n",
       "    <tr>\n",
       "      <th>2</th>\n",
       "      <td>2017-03-03</td>\n",
       "      <td>0.214741</td>\n",
       "    </tr>\n",
       "    <tr>\n",
       "      <th>3</th>\n",
       "      <td>2017-03-04</td>\n",
       "      <td>0.244071</td>\n",
       "    </tr>\n",
       "    <tr>\n",
       "      <th>4</th>\n",
       "      <td>2017-03-05</td>\n",
       "      <td>0.236578</td>\n",
       "    </tr>\n",
       "    <tr>\n",
       "      <th>...</th>\n",
       "      <td>...</td>\n",
       "      <td>...</td>\n",
       "    </tr>\n",
       "    <tr>\n",
       "      <th>391</th>\n",
       "      <td>2018-03-27</td>\n",
       "      <td>0.252054</td>\n",
       "    </tr>\n",
       "    <tr>\n",
       "      <th>392</th>\n",
       "      <td>2018-03-28</td>\n",
       "      <td>0.260557</td>\n",
       "    </tr>\n",
       "    <tr>\n",
       "      <th>393</th>\n",
       "      <td>2018-03-29</td>\n",
       "      <td>0.229985</td>\n",
       "    </tr>\n",
       "    <tr>\n",
       "      <th>394</th>\n",
       "      <td>2018-03-30</td>\n",
       "      <td>0.275603</td>\n",
       "    </tr>\n",
       "    <tr>\n",
       "      <th>395</th>\n",
       "      <td>2018-03-31</td>\n",
       "      <td>0.261082</td>\n",
       "    </tr>\n",
       "  </tbody>\n",
       "</table>\n",
       "<p>396 rows × 2 columns</p>\n",
       "</div>"
      ],
      "text/plain": [
       "            S_2    target\n",
       "0    2017-03-01  0.243618\n",
       "1    2017-03-02  0.247207\n",
       "2    2017-03-03  0.214741\n",
       "3    2017-03-04  0.244071\n",
       "4    2017-03-05  0.236578\n",
       "..          ...       ...\n",
       "391  2018-03-27  0.252054\n",
       "392  2018-03-28  0.260557\n",
       "393  2018-03-29  0.229985\n",
       "394  2018-03-30  0.275603\n",
       "395  2018-03-31  0.261082\n",
       "\n",
       "[396 rows x 2 columns]"
      ]
     },
     "execution_count": 4,
     "metadata": {},
     "output_type": "execute_result"
    }
   ],
   "source": [
    "# we can first extract the month and year information to better prepare ourselves for monthly analysis\n",
    "train_df[\"month\"] = train_df[\"S_2\"].str.split(\"-\").str[0] + \"_\" + train_df[\"S_2\"].str.split(\"-\").str[1]\n",
    "\n",
    "# find the default customer ratio for eacc unique month\n",
    "def default_ratio(df):   \n",
    "    return sum(df == 1) / len(df)\n",
    "monthly_ratio = train_df[[\"target\", \"S_2\"]].groupby(\"S_2\").agg(default_ratio)\n",
    "monthly_ratio = monthly_ratio.reset_index()\n",
    "monthly_ratio"
   ]
  },
  {
   "cell_type": "markdown",
   "id": "2db77a26-0434-4393-a0d1-fa04c465ddfc",
   "metadata": {
    "tags": []
   },
   "source": [
    "# Step 3 - Building our model"
   ]
  },
  {
   "cell_type": "markdown",
   "id": "6f43043c-6b4c-49db-b1c6-e06140728709",
   "metadata": {},
   "source": [
    "## use train data to train our model "
   ]
  },
  {
   "cell_type": "code",
   "execution_count": 5,
   "id": "61df6cca-5f1d-4600-b38a-205a4490e8e2",
   "metadata": {},
   "outputs": [
    {
     "data": {
      "text/plain": [
       "Index(['customer_ID', 'S_2', 'P_2', 'D_39', 'B_1', 'B_2', 'R_1', 'S_3', 'D_41',\n",
       "       'B_3',\n",
       "       ...\n",
       "       'D_133', 'R_28', 'D_139', 'D_140', 'D_141', 'D_143', 'D_144', 'D_145',\n",
       "       'target', 'month'],\n",
       "      dtype='object', length=161)"
      ]
     },
     "execution_count": 5,
     "metadata": {},
     "output_type": "execute_result"
    }
   ],
   "source": [
    "# first drop the columns that have too many NA values\n",
    "df = train_df.dropna(axis = 1, thresh = 0.7 * train_data.shape[0])\n",
    "df.columns"
   ]
  },
  {
   "cell_type": "code",
   "execution_count": 7,
   "id": "5dfafea3-02ab-48d5-8cf9-6ed6b2dba59d",
   "metadata": {},
   "outputs": [
    {
     "name": "stdout",
     "output_type": "stream",
     "text": [
      "['customer_ID', 'S_2', 'P_2', 'D_39', 'B_1', 'B_2', 'R_1', 'S_3', 'D_41', 'B_3', 'D_43', 'D_44', 'B_4', 'D_45', 'B_5', 'R_2', 'D_46', 'D_47', 'D_48', 'B_6', 'B_7', 'B_8', 'D_51', 'B_9', 'R_3', 'D_52', 'P_3', 'B_10', 'S_5', 'B_11', 'S_6', 'D_54', 'R_4', 'S_7', 'B_12', 'S_8', 'D_55', 'B_13', 'R_5', 'D_58', 'B_14', 'D_59', 'D_60', 'D_61', 'B_15', 'S_11', 'D_62', 'D_63', 'D_64', 'D_65', 'B_16', 'B_18', 'B_19', 'B_20', 'D_68', 'S_12', 'R_6', 'S_13', 'B_21', 'D_69', 'B_22', 'D_70', 'D_71', 'D_72', 'S_15', 'B_23', 'P_4', 'D_74', 'D_75', 'B_24', 'R_7', 'B_25', 'B_26', 'D_78', 'D_79', 'R_8', 'S_16', 'D_80', 'R_10', 'R_11', 'B_27', 'D_81', 'S_17', 'R_12', 'B_28', 'R_13', 'D_83', 'R_14', 'R_15', 'D_84', 'R_16', 'B_30', 'S_18', 'D_86', 'R_17', 'R_18', 'B_31', 'S_19', 'R_19', 'B_32', 'S_20', 'R_20', 'R_21', 'B_33', 'D_89', 'R_22', 'R_23', 'D_91', 'D_92', 'D_93', 'D_94', 'R_24', 'R_25', 'D_96', 'S_22', 'S_23', 'S_24', 'S_25', 'S_26', 'D_102', 'D_103', 'D_104', 'D_107', 'B_36', 'B_37', 'R_27', 'B_38', 'D_109', 'D_112', 'B_40', 'S_27', 'D_113', 'D_114', 'D_115', 'D_116', 'D_117', 'D_118', 'D_119', 'D_120', 'D_121', 'D_122', 'D_123', 'D_124', 'D_125', 'D_126', 'D_127', 'D_128', 'D_129', 'B_41', 'D_130', 'D_131', 'D_133', 'R_28', 'D_139', 'D_140', 'D_141', 'D_143', 'D_144', 'D_145', 'target', 'month']\n"
     ]
    }
   ],
   "source": [
    "print(df.columns.tolist())"
   ]
  },
  {
   "cell_type": "code",
   "execution_count": 9,
   "id": "00bbb04b-94da-4ae4-8a46-14eb2e0f72fc",
   "metadata": {},
   "outputs": [
    {
     "name": "stdout",
     "output_type": "stream",
     "text": [
      "customer_ID\n",
      "S_2\n",
      "P_2\n",
      "D_39\n",
      "B_1\n",
      "B_2\n",
      "R_1\n",
      "S_3\n",
      "D_41\n",
      "B_3\n",
      "D_43\n",
      "D_44\n",
      "B_4\n",
      "D_45\n",
      "B_5\n",
      "R_2\n",
      "D_46\n",
      "D_47\n",
      "D_48\n",
      "B_6\n",
      "B_7\n",
      "B_8\n",
      "D_51\n",
      "B_9\n",
      "R_3\n",
      "D_52\n",
      "P_3\n",
      "B_10\n",
      "S_5\n",
      "B_11\n",
      "S_6\n",
      "D_54\n",
      "R_4\n",
      "S_7\n",
      "B_12\n",
      "S_8\n",
      "D_55\n",
      "B_13\n",
      "R_5\n",
      "D_58\n",
      "B_14\n",
      "D_59\n",
      "D_60\n",
      "D_61\n",
      "B_15\n",
      "S_11\n",
      "D_62\n",
      "D_63\n",
      "D_64\n",
      "D_65\n",
      "B_16\n",
      "B_18\n",
      "B_19\n",
      "B_20\n",
      "D_68\n",
      "S_12\n",
      "R_6\n",
      "S_13\n",
      "B_21\n",
      "D_69\n",
      "B_22\n",
      "D_70\n",
      "D_71\n",
      "D_72\n",
      "S_15\n",
      "B_23\n",
      "P_4\n",
      "D_74\n",
      "D_75\n",
      "B_24\n",
      "R_7\n",
      "B_25\n",
      "B_26\n",
      "D_78\n",
      "D_79\n",
      "R_8\n",
      "S_16\n",
      "D_80\n",
      "R_10\n",
      "R_11\n",
      "B_27\n",
      "D_81\n",
      "S_17\n",
      "R_12\n",
      "B_28\n",
      "R_13\n",
      "D_83\n",
      "R_14\n",
      "R_15\n",
      "D_84\n",
      "R_16\n",
      "B_30\n",
      "S_18\n",
      "D_86\n",
      "R_17\n",
      "R_18\n",
      "B_31\n",
      "S_19\n",
      "R_19\n",
      "B_32\n",
      "S_20\n",
      "R_20\n",
      "R_21\n",
      "B_33\n",
      "D_89\n",
      "R_22\n",
      "R_23\n",
      "D_91\n",
      "D_92\n",
      "D_93\n",
      "D_94\n",
      "R_24\n",
      "R_25\n",
      "D_96\n",
      "S_22\n",
      "S_23\n",
      "S_24\n",
      "S_25\n",
      "S_26\n",
      "D_102\n",
      "D_103\n",
      "D_104\n",
      "D_107\n",
      "B_36\n",
      "B_37\n",
      "R_27\n",
      "B_38\n",
      "D_109\n",
      "D_112\n",
      "B_40\n",
      "S_27\n",
      "D_113\n",
      "D_114\n",
      "D_115\n",
      "D_116\n",
      "D_117\n",
      "D_118\n",
      "D_119\n",
      "D_120\n",
      "D_121\n",
      "D_122\n",
      "D_123\n",
      "D_124\n",
      "D_125\n",
      "D_126\n",
      "D_127\n",
      "D_128\n",
      "D_129\n",
      "B_41\n",
      "D_130\n",
      "D_131\n",
      "D_133\n",
      "R_28\n",
      "D_139\n",
      "D_140\n",
      "D_141\n",
      "D_143\n",
      "D_144\n",
      "D_145\n",
      "target\n",
      "month\n"
     ]
    }
   ],
   "source": [
    "columns = df.columns\n",
    "for col in columns:\n",
    "    print(col)"
   ]
  },
  {
   "cell_type": "code",
   "execution_count": 6,
   "id": "63e1ec5c-b1e1-431c-b952-77c4a5a1e744",
   "metadata": {},
   "outputs": [],
   "source": [
    "y = df[[\"target\"]]\n",
    "X = df.drop([\"customer_ID\", \"S_2\", \"month\", \"target\"], axis = 1)\n",
    "X_train, X_test, y_train, y_test = train_test_split(X, y, test_size=0.15, stratify=y)"
   ]
  },
  {
   "cell_type": "code",
   "execution_count": 6,
   "id": "50e95254-0815-4fc6-a47a-77368d94f0d0",
   "metadata": {},
   "outputs": [
    {
     "name": "stdout",
     "output_type": "stream",
     "text": [
      "the shape of our training data is (4701733, 154)\n",
      "the shape of our test data is (829718, 154)\n"
     ]
    }
   ],
   "source": [
    "print(\"the shape of our training data is \" + str(X_train.shape))\n",
    "print(\"the shape of our test data is \" + str(X_test.shape))"
   ]
  },
  {
   "cell_type": "code",
   "execution_count": 7,
   "id": "7b8f3a67-52b0-42d6-bac7-fe9f20ed31bf",
   "metadata": {},
   "outputs": [],
   "source": [
    "LGBM = lgb.LGBMClassifier(boosting_type='goss', max_depth=20, random_state=0, n_estimators=200, learning_rate=0.09, num_leaves=500)"
   ]
  },
  {
   "cell_type": "code",
   "execution_count": 8,
   "id": "19f42f06-6b0f-4aee-98d1-fad67fc4a999",
   "metadata": {},
   "outputs": [
    {
     "name": "stderr",
     "output_type": "stream",
     "text": [
      "/Users/weixuanzhang/env/lib/python3.8/site-packages/sklearn/utils/validation.py:73: DataConversionWarning: A column-vector y was passed when a 1d array was expected. Please change the shape of y to (n_samples, ), for example using ravel().\n",
      "  return f(**kwargs)\n"
     ]
    }
   ],
   "source": [
    "LGBM = LGBM.fit(X_train, y_train)"
   ]
  },
  {
   "cell_type": "code",
   "execution_count": 9,
   "id": "75ed4032-cfa9-46bb-9aff-229d9b8b37f6",
   "metadata": {},
   "outputs": [
    {
     "name": "stdout",
     "output_type": "stream",
     "text": [
      "the score of our LGBM model on the training data is 0.8952690422871736\n"
     ]
    }
   ],
   "source": [
    "train_score = LGBM.score(X_train, y_train)\n",
    "\n",
    "print(\"the score of our LGBM model on the training data is \" + str(train_score))"
   ]
  },
  {
   "cell_type": "code",
   "execution_count": 10,
   "id": "b1fbdd43-8580-4cc5-9458-66027ee39b60",
   "metadata": {},
   "outputs": [
    {
     "name": "stdout",
     "output_type": "stream",
     "text": [
      "the score of our LGBM model on the test data is 0.8868338399311574\n"
     ]
    }
   ],
   "source": [
    "test_score = LGBM.score(X_test, y_test)\n",
    "\n",
    "print(\"the score of our LGBM model on the test data is \" + str(test_score))"
   ]
  },
  {
   "cell_type": "markdown",
   "id": "529676ec-d7c6-4a96-8999-6317f6f8fc4a",
   "metadata": {},
   "source": [
    "# step 4 - use our model and test data to make prediction"
   ]
  },
  {
   "cell_type": "code",
   "execution_count": 11,
   "id": "04785021-d81a-422e-a5b4-6daf3c63544f",
   "metadata": {},
   "outputs": [],
   "source": [
    "columns = X.columns.tolist()"
   ]
  },
  {
   "cell_type": "code",
   "execution_count": 12,
   "id": "27bf4528-f234-46c3-ba6a-077308e4bb84",
   "metadata": {},
   "outputs": [],
   "source": [
    "test_df = test_data[columns]"
   ]
  },
  {
   "cell_type": "code",
   "execution_count": null,
   "id": "9a8d3a4d-3d47-4838-8ea4-fcc44c52eccb",
   "metadata": {},
   "outputs": [],
   "source": [
    "probs = LGBM.predict_proba(test_df)\n",
    "probs"
   ]
  },
  {
   "cell_type": "code",
   "execution_count": null,
   "id": "ac17d50e-97cb-44da-8c3f-d08f05f0ebf1",
   "metadata": {},
   "outputs": [],
   "source": [
    "probs[:, 1]"
   ]
  },
  {
   "cell_type": "code",
   "execution_count": null,
   "id": "8a14413a-841c-4102-9862-3cd2fdcb008f",
   "metadata": {},
   "outputs": [],
   "source": [
    "pred = LGBM.predict(test_df)\n",
    "pred"
   ]
  },
  {
   "cell_type": "markdown",
   "id": "5ffbf101-9be0-4a8a-9048-dcf4a54820bd",
   "metadata": {},
   "source": [
    "# Step 5 - save result "
   ]
  },
  {
   "cell_type": "code",
   "execution_count": null,
   "id": "2d74fa15-13ac-4228-9e58-53b28179b28e",
   "metadata": {},
   "outputs": [],
   "source": [
    "result= pd.DataFrame()\n",
    "result[\"customer_ID\"] = test_data[\"customer_ID\"]\n",
    "result[\"prediction\"] = probs[:, 1]\n",
    "result.to_csv('result.csv', index=None)"
   ]
  },
  {
   "cell_type": "code",
   "execution_count": null,
   "id": "0808e6b2-1060-4aea-85de-4ae7da82917d",
   "metadata": {},
   "outputs": [],
   "source": [
    "result"
   ]
  },
  {
   "cell_type": "code",
   "execution_count": null,
   "id": "e9146c39-bb9a-4354-8e1a-cb1c28cd3a7e",
   "metadata": {},
   "outputs": [],
   "source": [
    "# Importing the pickle library\n",
    "\n",
    "import pickle\n",
    "\n",
    "# Dumping the model object to save it as model.pkl file\n",
    "\n",
    "pickle.dump(model,open('model.pkl','wb+'))"
   ]
  },
  {
   "cell_type": "code",
   "execution_count": null,
   "id": "907f66e8-27e2-4674-be76-38036c2fe5a1",
   "metadata": {},
   "outputs": [],
   "source": []
  },
  {
   "cell_type": "code",
   "execution_count": null,
   "id": "70e14340-3a10-4f83-ad33-820a5eb148cd",
   "metadata": {},
   "outputs": [],
   "source": []
  },
  {
   "cell_type": "code",
   "execution_count": null,
   "id": "69493011-4478-4875-a3c3-59a327e4d9c4",
   "metadata": {},
   "outputs": [],
   "source": []
  },
  {
   "cell_type": "code",
   "execution_count": null,
   "id": "e89a6c40-2855-4c3a-a316-08ebfcc987e2",
   "metadata": {},
   "outputs": [],
   "source": []
  },
  {
   "cell_type": "code",
   "execution_count": null,
   "id": "29cd9bce-df83-4179-bc2c-92fa437f855a",
   "metadata": {},
   "outputs": [],
   "source": []
  },
  {
   "cell_type": "code",
   "execution_count": null,
   "id": "751fdbdd-3b3a-406c-b643-0989703c84c5",
   "metadata": {},
   "outputs": [],
   "source": []
  },
  {
   "cell_type": "code",
   "execution_count": null,
   "id": "05890c31-bf0c-4c5e-bf6e-19def34f7c52",
   "metadata": {},
   "outputs": [],
   "source": []
  },
  {
   "cell_type": "code",
   "execution_count": null,
   "id": "db44d8ed-49f6-485b-8b56-3dfbed34ca6a",
   "metadata": {},
   "outputs": [],
   "source": []
  },
  {
   "cell_type": "code",
   "execution_count": null,
   "id": "7dc48b56-8091-45ec-ba27-3ab3e72e688a",
   "metadata": {},
   "outputs": [],
   "source": []
  },
  {
   "cell_type": "code",
   "execution_count": null,
   "id": "cf91689a-257f-46d7-8ea9-bae4c406d475",
   "metadata": {},
   "outputs": [],
   "source": []
  },
  {
   "cell_type": "code",
   "execution_count": null,
   "id": "0e0ac6e3-9ce3-4553-915c-19c57fc30315",
   "metadata": {},
   "outputs": [],
   "source": []
  },
  {
   "cell_type": "code",
   "execution_count": null,
   "id": "b72eab06-34ab-42c2-bb9a-a461c2bbe4b9",
   "metadata": {},
   "outputs": [],
   "source": []
  },
  {
   "cell_type": "code",
   "execution_count": null,
   "id": "a8bc1af1-3a3b-4177-94f4-9e52b0b3585c",
   "metadata": {},
   "outputs": [],
   "source": []
  }
 ],
 "metadata": {
  "kernelspec": {
   "display_name": "Python 3",
   "language": "python",
   "name": "python3"
  },
  "language_info": {
   "codemirror_mode": {
    "name": "ipython",
    "version": 3
   },
   "file_extension": ".py",
   "mimetype": "text/x-python",
   "name": "python",
   "nbconvert_exporter": "python",
   "pygments_lexer": "ipython3",
   "version": "3.8.8"
  }
 },
 "nbformat": 4,
 "nbformat_minor": 5
}
